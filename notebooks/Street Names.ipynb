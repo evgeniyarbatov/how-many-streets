{
 "cells": [
  {
   "cell_type": "code",
   "execution_count": 1,
   "id": "289a6858-99bd-46ef-954d-64940859cc05",
   "metadata": {},
   "outputs": [],
   "source": [
    "import pandas as pd"
   ]
  },
  {
   "cell_type": "code",
   "execution_count": null,
   "id": "4d9ab146-18fe-4c96-9769-97ddb12f904b",
   "metadata": {},
   "outputs": [],
   "source": [
    "file_path = '../singapore-streets.txt'"
   ]
  },
  {
   "cell_type": "code",
   "execution_count": 13,
   "id": "68860604-2420-40a3-b5cd-1ac008e7c0fa",
   "metadata": {},
   "outputs": [
    {
     "data": {
      "text/html": [
       "<div>\n",
       "<style scoped>\n",
       "    .dataframe tbody tr th:only-of-type {\n",
       "        vertical-align: middle;\n",
       "    }\n",
       "\n",
       "    .dataframe tbody tr th {\n",
       "        vertical-align: top;\n",
       "    }\n",
       "\n",
       "    .dataframe thead th {\n",
       "        text-align: right;\n",
       "    }\n",
       "</style>\n",
       "<table border=\"1\" class=\"dataframe\">\n",
       "  <thead>\n",
       "    <tr style=\"text-align: right;\">\n",
       "      <th></th>\n",
       "      <th>street_name</th>\n",
       "    </tr>\n",
       "  </thead>\n",
       "  <tbody>\n",
       "    <tr>\n",
       "      <th>0</th>\n",
       "      <td>adam road</td>\n",
       "    </tr>\n",
       "    <tr>\n",
       "      <th>1</th>\n",
       "      <td>adis road</td>\n",
       "    </tr>\n",
       "    <tr>\n",
       "      <th>2</th>\n",
       "      <td>admiralty drive</td>\n",
       "    </tr>\n",
       "  </tbody>\n",
       "</table>\n",
       "</div>"
      ],
      "text/plain": [
       "       street_name\n",
       "0        adam road\n",
       "1        adis road\n",
       "2  admiralty drive"
      ]
     },
     "execution_count": 13,
     "metadata": {},
     "output_type": "execute_result"
    }
   ],
   "source": [
    "df = pd.read_csv(file_path, header=None, names=['street_name'])\n",
    "df['street_name'] = df['street_name'].str.lower()\n",
    "df.head(3)"
   ]
  },
  {
   "cell_type": "code",
   "execution_count": 16,
   "id": "b885bc66-b851-44c9-aed9-30280d09fed3",
   "metadata": {},
   "outputs": [],
   "source": [
    "street_types = [\n",
    "    'Avenue',\n",
    "    'Boulevard',\n",
    "    'Central',\n",
    "    'Circle',\n",
    "    'Close',\n",
    "    'Crescent',\n",
    "    'Drive',\n",
    "    'Farmway',\n",
    "    'Gardens',\n",
    "    'Heights',\n",
    "    'Hill',\n",
    "    'Jalan',\n",
    "    'Lorong',\n",
    "    'Lane',\n",
    "    'Link',\n",
    "    'Loop',\n",
    "    'Place',\n",
    "    'Ring',\n",
    "    'Rise',\n",
    "    'Road',\n",
    "    'Street',\n",
    "    'Terrace',\n",
    "    'View',\n",
    "    'Walk',\n",
    "    'Way',\n",
    "]"
   ]
  },
  {
   "cell_type": "code",
   "execution_count": 17,
   "id": "9836285a-7c26-4433-bfa6-0391018658cb",
   "metadata": {},
   "outputs": [
    {
     "name": "stdout",
     "output_type": "stream",
     "text": [
      "road: 728 (23.79%)\n",
      "jalan: 433 (14.15%)\n",
      "avenue: 367 (11.99%)\n",
      "street: 326 (10.65%)\n",
      "drive: 216 (7.06%)\n",
      "lorong: 126 (4.12%)\n",
      "crescent: 118 (3.86%)\n",
      "lane: 116 (3.79%)\n",
      "walk: 113 (3.69%)\n",
      "view: 74 (2.42%)\n",
      "hill: 71 (2.32%)\n",
      "terrace: 67 (2.19%)\n",
      "close: 66 (2.16%)\n",
      "link: 66 (2.16%)\n",
      "place: 65 (2.12%)\n",
      "way: 52 (1.70%)\n",
      "rise: 45 (1.47%)\n",
      "central: 42 (1.37%)\n",
      "ring: 36 (1.18%)\n",
      "heights: 14 (0.46%)\n",
      "gardens: 12 (0.39%)\n",
      "circle: 11 (0.36%)\n",
      "boulevard: 10 (0.33%)\n",
      "loop: 8 (0.26%)\n",
      "farmway: 2 (0.07%)\n"
     ]
    }
   ],
   "source": [
    "results = []\n",
    "\n",
    "for street_type in street_types:\n",
    "    street_type = street_type.lower()\n",
    "    count = df['street_name'].str.contains(street_type).sum()\n",
    "    percentage = (count / len(df)) * 100\n",
    "    results.append((street_type, count, percentage))\n",
    "\n",
    "results.sort(key=lambda x: x[2], reverse=True)\n",
    "\n",
    "for street_type, count, percentage in results:\n",
    "     print(f\"{street_type}: {count} ({percentage:.2f}%)\")"
   ]
  },
  {
   "cell_type": "code",
   "execution_count": null,
   "id": "876e4478-e00f-4028-ae9b-826e8746972a",
   "metadata": {},
   "outputs": [],
   "source": []
  }
 ],
 "metadata": {
  "kernelspec": {
   "display_name": "Python 3 (ipykernel)",
   "language": "python",
   "name": "python3"
  },
  "language_info": {
   "codemirror_mode": {
    "name": "ipython",
    "version": 3
   },
   "file_extension": ".py",
   "mimetype": "text/x-python",
   "name": "python",
   "nbconvert_exporter": "python",
   "pygments_lexer": "ipython3",
   "version": "3.9.6"
  }
 },
 "nbformat": 4,
 "nbformat_minor": 5
}
